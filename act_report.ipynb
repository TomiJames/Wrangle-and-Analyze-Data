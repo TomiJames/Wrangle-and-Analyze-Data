{
 "cells": [
  {
   "cell_type": "markdown",
   "metadata": {},
   "source": [
    "## Report: act_report\n",
    "* Create a **250-word-minimum written report** called \"act_report.pdf\" or \"act_report.html\" that communicates the insights and displays the visualization(s) produced from your wrangled data. This is to be framed as an external document, like a blog post or magazine article, for example."
   ]
  },
  {
   "cell_type": "markdown",
   "metadata": {},
   "source": [
    "# Wondering what dog to get to help drive traffic on social media?\n",
    "### The results of this analysis might help streamline your options!"
   ]
  },
  {
   "cell_type": "markdown",
   "metadata": {},
   "source": [
    "Most companies have complemented their traditional advertising strategies with different online advertising techniques. One of such techniques is using social media influencers to advertise their products or services to their target audience. These audiences already spend a large chunk of their time engaging with the content produced by the social media influencers. So it only makes sense to run their advertisements through this medium rather than trying to lure prospects to other platforms.\n",
    "\n",
    "These influencers are simply individuals living normal lives that have learnt to strategically put out content from their daily lives with the aim of attracting people to their social media pages and keeping them engaged. Those thousands of likes and followers could go beyond being just numbers to being an additional source of income. As long as they're able to grow their following and engagement to a particular level and keep the numbers growing, the chance of attracting these companies for advertisement and becoming profitable gets higher.\n",
    "\n",
    "Over time, contents that showcase one's pets have proven to result in higher engagement. But different pets trigger different responses from the audience. These influencers therefore have to be strategic about the type of pets they have. In this article, we will be discussing the characteristics of pets(dogs in particular) that result in the highest enagements based on the analysis carried out on the WeRateDogs twitter data. We will be answering questions such as:\n",
    "* which dog types (pupper, puppo, doggo or floofer) attract the highest engagements?\n",
    "* which dog breeds attract the highest engagements?\n",
    "* do the ratings given by people affect engagement?\n",
    "\n",
    "Before we proceed, please take note of the following:\n",
    "* The measures of engagement observed were **retweet count** and **favorite count**.\n",
    "* The terminologies used to describe dog types are discussed below:\n",
    "    * doggo: a regular dog\n",
    "    * pupper: a puppy\n",
    "    * floofer: any dog with seemingly excessive fur\n",
    "    * puppo: a dog transitioning between the pupper and doggo stage i.e. a teenage dog"
   ]
  },
  {
   "cell_type": "markdown",
   "metadata": {},
   "source": [
    "### Which dog types attract the highest engagement?"
   ]
  },
  {
   "cell_type": "markdown",
   "metadata": {},
   "source": [
    "##### Dog Type vs Retweet Count"
   ]
  },
  {
   "cell_type": "markdown",
   "metadata": {},
   "source": [
    "<img src=\"images/Retweet Count by Dog Type.png\"/>"
   ]
  },
  {
   "cell_type": "markdown",
   "metadata": {},
   "source": [
    "##### Dog Type vs Favorite Count"
   ]
  },
  {
   "cell_type": "markdown",
   "metadata": {},
   "source": [
    "<img src = \"images/Favorite Count by Dog Type.png\" />"
   ]
  },
  {
   "cell_type": "markdown",
   "metadata": {},
   "source": [
    "From the charts above, doggos and puppers seem to have the highest engagement counts"
   ]
  },
  {
   "cell_type": "markdown",
   "metadata": {},
   "source": [
    "### Which dog breeds attract the highest engagement?\n"
   ]
  },
  {
   "cell_type": "markdown",
   "metadata": {},
   "source": [
    "##### Dog Breed vs Retweet Count\n",
    "<img src = \"images/Retweet Count by Dog Breed.png\"/>\n"
   ]
  },
  {
   "cell_type": "markdown",
   "metadata": {},
   "source": [
    "##### Dog Breed vs Favorite Count\n",
    "<img src = \"images/Favorite Count by Dog Breed.png\"/>"
   ]
  },
  {
   "cell_type": "markdown",
   "metadata": {},
   "source": [
    "For both engagement metrics, the golden retriever outperformed the other dog breeds, followed by the labrador retriever"
   ]
  },
  {
   "cell_type": "markdown",
   "metadata": {},
   "source": [
    "### Do the ratings given by people affect engagement?\n"
   ]
  },
  {
   "cell_type": "markdown",
   "metadata": {},
   "source": [
    "##### Rating vs Retweet Count\n",
    "<img src = \"images/Rating vs Retweet Count.png\"/>"
   ]
  },
  {
   "cell_type": "markdown",
   "metadata": {},
   "source": [
    "##### Rating vs Favorite Count\n",
    "<img src = \"images/Rating vs Favorite Count.png\"/>"
   ]
  },
  {
   "cell_type": "markdown",
   "metadata": {},
   "source": [
    "From both plots, it can be seen that dog ratings and the different engagement metrics are not related in any way"
   ]
  },
  {
   "cell_type": "markdown",
   "metadata": {},
   "source": [
    "In conclusion, the characteristics of dogs that attract the highest engagements include:\n",
    "* dog type: doggo, pupper\n",
    "* dog breed: golden retriever, labrador retriever. Others include pembroke, chihuahua and samoyed"
   ]
  }
 ],
 "metadata": {
  "kernelspec": {
   "display_name": "Python 3",
   "language": "python",
   "name": "python3"
  },
  "language_info": {
   "codemirror_mode": {
    "name": "ipython",
    "version": 3
   },
   "file_extension": ".py",
   "mimetype": "text/x-python",
   "name": "python",
   "nbconvert_exporter": "python",
   "pygments_lexer": "ipython3",
   "version": "3.6.3"
  }
 },
 "nbformat": 4,
 "nbformat_minor": 2
}
